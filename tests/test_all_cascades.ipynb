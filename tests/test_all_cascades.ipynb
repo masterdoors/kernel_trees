{
 "cells": [
  {
   "cell_type": "markdown",
   "id": "57bc4660",
   "metadata": {},
   "source": [
    "# PRIMARY SETUPS"
   ]
  },
  {
   "cell_type": "code",
   "execution_count": 1,
   "id": "cd8b636b",
   "metadata": {},
   "outputs": [],
   "source": [
    "# coding: utf-8\n",
    "\n",
    "'''\n",
    "Created on 21 мая 2016 г.\n",
    "\n",
    "@author: keen\n",
    "'''\n",
    "\n",
    "from sklearn import datasets\n",
    "import pickle\n",
    "\n",
    "from scipy.sparse import csr_matrix\n",
    "from sklearn import preprocessing\n",
    "from numpy import ndarray\n",
    "from numpy import asarray\n",
    "from numpy.random import randint as rint\n",
    "import datetime\n",
    "from random import randint\n",
    "import numpy\n",
    "from sklearn.datasets import fetch_openml\n",
    "#from sklearn.svm import SVC\n",
    "import CO2_tree as co2t\n",
    "import CO2_forest as co2f\n",
    "from sklearn.metrics import accuracy_score"
   ]
  },
  {
   "cell_type": "code",
   "execution_count": 2,
   "id": "f906c9e7",
   "metadata": {},
   "outputs": [],
   "source": [
    "TRAIN_SIZE = 1000\n",
    "TEST_SIZE = 1000\n",
    "SHAKE = True\n",
    "NJOBS = 5"
   ]
  },
  {
   "cell_type": "markdown",
   "id": "7d2ffad3",
   "metadata": {},
   "source": [
    "# Load all data"
   ]
  },
  {
   "cell_type": "code",
   "execution_count": 3,
   "id": "dfffdac5",
   "metadata": {},
   "outputs": [],
   "source": [
    "data = {}"
   ]
  },
  {
   "cell_type": "markdown",
   "id": "6f008235",
   "metadata": {},
   "source": [
    "## MNIST"
   ]
  },
  {
   "cell_type": "code",
   "execution_count": 4,
   "id": "556f8fee",
   "metadata": {},
   "outputs": [],
   "source": [
    "x, Y = fetch_openml(\"mnist_784\", version=1, return_X_y=True, as_frame=False)\n",
    "x = preprocessing.normalize(x, copy=False, axis = 0)\n",
    "Y = Y.astype(int) + 1\n",
    "\n",
    "x_train = x[:60000,:]\n",
    "x_validate = x[60000:,:]\n",
    "\n",
    "Y_train = Y[:60000]#[:6000]\n",
    "Y_validate = Y[60000:]#[:3000]\n",
    "\n",
    "data['MNIST'] = [[x_train,Y_train],[x_validate,Y_validate],(28,28,1)]"
   ]
  },
  {
   "cell_type": "markdown",
   "id": "ac559bf9",
   "metadata": {},
   "source": [
    "## USPS"
   ]
  },
  {
   "cell_type": "code",
   "execution_count": 5,
   "id": "926117a1",
   "metadata": {},
   "outputs": [
    {
     "name": "stderr",
     "output_type": "stream",
     "text": [
      "/home/keen/.pyenv/versions/3.6.2/lib/python3.6/site-packages/sklearn/datasets/_openml.py:854: UserWarning: Version 1 of dataset USPS is inactive, meaning that issues have been found in the dataset. Try using a newer version from this URL: https://api.openml.org/data/v1/download/18805612/USPS.arff\n",
      "  data_description['url']))\n"
     ]
    }
   ],
   "source": [
    "x, Y = fetch_openml(\"USPS\", version=1, return_X_y=True, as_frame=False)\n",
    "x = preprocessing.normalize(x, copy=False, axis = 0)\n",
    "Y = Y.astype(int) + 1\n",
    "\n",
    "x_train = x[:7291,:]\n",
    "x_validate = x[7291:,:]\n",
    "\n",
    "Y_train = Y[:7291]#[:6000]\n",
    "Y_validate = Y[7291:]#[:3000]\n",
    "data['USPS'] = [[x_train,Y_train],[x_validate,Y_validate],(16,16,1)]"
   ]
  },
  {
   "cell_type": "markdown",
   "id": "b30655cd",
   "metadata": {},
   "source": [
    "## CIFAR-10"
   ]
  },
  {
   "cell_type": "code",
   "execution_count": 6,
   "id": "8a382aa3",
   "metadata": {},
   "outputs": [],
   "source": [
    "x, Y = fetch_openml(\"CIFAR_10\", version=1, return_X_y=True, as_frame=False)\n",
    "x = preprocessing.normalize(x, copy=False, axis = 0)\n",
    "Y = Y.astype(int) + 1\n",
    "\n",
    "x_train = x[:50000,:]\n",
    "x_validate = x[50000:,:]\n",
    "\n",
    "Y_train = Y[:50000]#[:6000]\n",
    "Y_validate = Y[50000:]#[:3000]\n",
    "data['CIFAR'] = [[x_train,Y_train],[x_validate,Y_validate],(32,32,3)]"
   ]
  },
  {
   "cell_type": "markdown",
   "id": "932f541c",
   "metadata": {},
   "source": [
    "## LETTER"
   ]
  },
  {
   "cell_type": "code",
   "execution_count": 7,
   "id": "482d5368",
   "metadata": {},
   "outputs": [],
   "source": [
    "x, Y = fetch_openml(\"letter\", version=1, return_X_y=True, as_frame=False)\n",
    "x = preprocessing.normalize(x, copy=False, axis = 0)\n",
    "Y = preprocessing.LabelEncoder().fit_transform(Y).astype(int) + 1\n",
    "\n",
    "x_train = x[:50000,:]\n",
    "x_validate = x[50000:,:]\n",
    "\n",
    "Y_train = Y[:50000]#[:6000]\n",
    "Y_validate = Y[50000:]#[:3000]\n",
    "data['letter'] = [[x_train,Y_train],[x_validate,Y_validate],(4,4,1)]"
   ]
  },
  {
   "cell_type": "markdown",
   "id": "3ab07ace",
   "metadata": {},
   "source": [
    "## SATIMAGE"
   ]
  },
  {
   "cell_type": "code",
   "execution_count": 8,
   "id": "e0666204",
   "metadata": {},
   "outputs": [],
   "source": [
    "x, Y = fetch_openml(\"satimage\", version=1, return_X_y=True, as_frame=False)\n",
    "x = preprocessing.normalize(x, copy=False, axis = 0)\n",
    "Y =  preprocessing.LabelEncoder().fit_transform(Y).astype(int) + 1\n",
    "\n",
    "x_train = x[:50000,:]\n",
    "x_validate = x[50000:,:]\n",
    "\n",
    "Y_train = Y[:50000]#[:6000]\n",
    "Y_validate = Y[50000:]#[:3000]\n",
    "data['satimage'] = [[x_train,Y_train],[x_validate,Y_validate],(8,8,1)]"
   ]
  },
  {
   "cell_type": "markdown",
   "id": "8da79e1a",
   "metadata": {},
   "source": [
    "# DEFINE ALL POSSIBLE TEST SCENARIOS"
   ]
  },
  {
   "cell_type": "code",
   "execution_count": 9,
   "id": "6d975754",
   "metadata": {},
   "outputs": [],
   "source": [
    "from deepforest import CascadeForestClassifier\n",
    "from sklearn.ensemble import RandomForestClassifier\n",
    "\n",
    "#TREE_D = [4,6,8,10]\n",
    "#TREE_F = [0.1,0.2,0.3,0.4,0.5,0.6,0.7]\n",
    "TREE_D = [4]\n",
    "TREE_F = [0.2]\n",
    "\n",
    "\n",
    "KERNEL = ['linear','gaussian']\n",
    "KERNEL_PRUNE = [True,False]\n",
    "#KERNEL_PRUNE_C = [0.1,1,10,100]\n",
    "#KERNEL_PRUNE_N = [0.05,0.1,0.2,0.3]\n",
    "KERNEL_PRUNE_C = [10]\n",
    "KERNEL_PRUNE_N = [0.1]\n",
    "\n",
    "n_estimators = 2\n",
    "\n",
    "estimators=[]\n",
    "\n",
    "for t in TREE_D:\n",
    "    for f in TREE_F:\n",
    "        tmp = []\n",
    "        tmp.append('RF')\n",
    "        tmp.append(t)\n",
    "        tmp.append(f)\n",
    "        tmp.append([RandomForestClassifier(max_depth=t,max_features=f,random_state=i,n_jobs=NJOBS) for i in range(n_estimators)])\n",
    "        estimators.append(tmp)  \n",
    "        \n",
    "        for k in KERNEL:\n",
    "            for pr in KERNEL_PRUNE:\n",
    "                if pr:\n",
    "                    for c in KERNEL_PRUNE_C:\n",
    "                        for n in KERNEL_PRUNE_N:\n",
    "                            tmp = []\n",
    "                            tmp.append('KF')\n",
    "                            tmp.append(t)\n",
    "                            tmp.append(f)\n",
    "                            tmp.append(k)\n",
    "                            tmp.append(\"Pruned\")\n",
    "                            tmp.append(c)\n",
    "                            tmp.append(n)\n",
    "                            tmp.append([co2f.CO2_forest(C=5500, min_samples_leaf=4,dual=False,tol = 0.0001,max_iter=1000,kernel=k,max_deth=t,n_jobs=NJOBS,sample_ratio=1.0, feature_ratio = f,n_estimators=30,gamma=100,dropout_low=0.0,dropout_high=1.0,noise=0.,cov_dr=0.,criteria='gain',reinforced = True, prune_level = n,reC=c) for i in range(n_estimators)])                            \n",
    "                            estimators.append(tmp) \n",
    "                    else:\n",
    "                        tmp = []\n",
    "\n",
    "                        tmp.append('KF')\n",
    "                        tmp.append(t)\n",
    "                        tmp.append(f)\n",
    "                        tmp.append(k)\n",
    "                        tmp.append(\"Not pruned\") \n",
    "                        tmp.append([co2f.CO2_forest(C=5500, min_samples_leaf=4,dual=False,tol = 0.0001,max_iter=1000,kernel=k,max_deth=t,n_jobs=NJOBS,sample_ratio=1.0, feature_ratio = f,n_estimators=30,gamma=100,dropout_low=0.0,dropout_high=1.0,noise=0.,cov_dr=0.,criteria='gain') for i in range(n_estimators)])                            \n",
    "\n",
    "                        estimators.append(tmp)  \n",
    "                    \n",
    "WIN = [True,False]\n",
    "\n",
    "#DS_WIN_SZ = {\n",
    "#    'MNIST':[10,12,14,16,18,20],\n",
    "#    'USPS':[6,8,10],\n",
    "#    'LETTER':[4],\n",
    "#    'CIFAR':[10,12,14,16,18,20],\n",
    "#    'SATIMAGE':[6,8]\n",
    "#}\n",
    "\n",
    "DS_WIN_SZ = {\n",
    "    'MNIST':[10],\n",
    "    'USPS':[6],\n",
    "    'letter':[4],\n",
    "    'CIFAR':[10],\n",
    "    'SATIMAGE':[6]\n",
    "}\n"
   ]
  },
  {
   "cell_type": "markdown",
   "id": "7dd48b01",
   "metadata": {},
   "source": [
    "# Do tests"
   ]
  },
  {
   "cell_type": "code",
   "execution_count": 10,
   "id": "b6b5d9ea",
   "metadata": {},
   "outputs": [
    {
     "name": "stdout",
     "output_type": "stream",
     "text": [
      "[2022-08-02 13:37:14.002] Start to fit the model:\n",
      "[2022-08-02 13:37:14.002] Fitting cascade layer = 0 \n",
      "(1000, 20)\n",
      "[2022-08-02 13:37:21.221] layer = 0  | Val Acc = 75.400 % | Elapsed = 7.219 s\n",
      "[2022-08-02 13:37:21.235] Fitting cascade layer = 1 \n",
      "(1000, 20)\n",
      "[2022-08-02 13:37:27.726] layer = 1  | Val Acc = 72.500 % | Elapsed = 6.491 s\n",
      "[2022-08-02 13:37:27.726] Early stopping counter: 1 out of 2\n",
      "[2022-08-02 13:37:27.740] Fitting cascade layer = 2 \n",
      "(1000, 20)\n",
      "[2022-08-02 13:37:32.286] layer = 2  | Val Acc = 71.700 % | Elapsed = 4.546 s\n",
      "[2022-08-02 13:37:32.286] Early stopping counter: 2 out of 2\n",
      "[2022-08-02 13:37:32.286] Handling early stopping\n",
      "[2022-08-02 13:37:32.287] The optimal number of layers: 1\n",
      "[2022-08-02 13:37:32.289] Start to evalute the model:\n",
      "[2022-08-02 13:37:32.300] Evaluating cascade layer = 0 \n",
      "MNIST True 10 ['RF', 4, 0.2]\n",
      "[2022-08-02 13:37:33.579] Start to fit the model:\n",
      "[2022-08-02 13:37:33.579] Fitting cascade layer = 0 \n",
      "(1000, 20)\n",
      "[2022-08-02 13:40:48.778] layer = 0  | Val Acc = 87.900 % | Elapsed = 195.199 s\n",
      "[2022-08-02 13:40:48.793] Fitting cascade layer = 1 \n",
      "(1000, 20)\n",
      "[2022-08-02 13:44:30.499] layer = 1  | Val Acc = 85.400 % | Elapsed = 221.706 s\n",
      "[2022-08-02 13:44:30.499] Early stopping counter: 1 out of 2\n",
      "[2022-08-02 13:44:30.516] Fitting cascade layer = 2 \n",
      "(1000, 20)\n",
      "[2022-08-02 13:47:28.452] layer = 2  | Val Acc = 86.400 % | Elapsed = 177.922 s\n",
      "[2022-08-02 13:47:28.452] Early stopping counter: 2 out of 2\n",
      "[2022-08-02 13:47:28.452] Handling early stopping\n",
      "[2022-08-02 13:47:28.455] The optimal number of layers: 1\n",
      "[2022-08-02 13:47:28.458] Start to evalute the model:\n",
      "[2022-08-02 13:47:28.476] Evaluating cascade layer = 0 \n",
      "MNIST True 10 ['KF', 4, 0.2, 'linear', 'Pruned', 10, 0.1]\n",
      "[2022-08-02 13:47:32.276] Start to fit the model:\n",
      "[2022-08-02 13:47:32.276] Fitting cascade layer = 0 \n",
      "(1000, 20)\n",
      "[2022-08-02 13:50:01.527] layer = 0  | Val Acc = 76.700 % | Elapsed = 149.251 s\n",
      "[2022-08-02 13:50:01.539] Fitting cascade layer = 1 \n",
      "(1000, 20)\n",
      "[2022-08-02 13:52:20.989] layer = 1  | Val Acc = 77.800 % | Elapsed = 139.450 s\n",
      "[2022-08-02 13:52:21.002] Fitting cascade layer = 2 \n",
      "(1000, 20)\n",
      "[2022-08-02 13:54:07.410] layer = 2  | Val Acc = 77.700 % | Elapsed = 106.408 s\n",
      "[2022-08-02 13:54:07.410] Early stopping counter: 1 out of 2\n",
      "[2022-08-02 13:54:07.410] Reaching the maximum number of layers: 3\n",
      "[2022-08-02 13:54:07.411] Start to evalute the model:\n",
      "[2022-08-02 13:54:07.420] Evaluating cascade layer = 0 \n",
      "[2022-08-02 13:54:10.400] Evaluating cascade layer = 1 \n",
      "[2022-08-02 13:54:13.258] Evaluating cascade layer = 2 \n",
      "MNIST True 10 ['KF', 4, 0.2, 'linear', 'Not pruned']\n",
      "[2022-08-02 13:54:16.203] Start to fit the model:\n",
      "[2022-08-02 13:54:16.203] Fitting cascade layer = 0 \n"
     ]
    },
    {
     "name": "stderr",
     "output_type": "stream",
     "text": [
      "/home/keen/.pyenv/versions/3.6.2/lib/python3.6/site-packages/sklearn/metrics/_classification.py:1248: UndefinedMetricWarning: Precision is ill-defined and being set to 0.0 in labels with no predicted samples. Use `zero_division` parameter to control this behavior.\n",
      "  _warn_prf(average, modifier, msg_start, len(result))\n"
     ]
    },
    {
     "name": "stdout",
     "output_type": "stream",
     "text": [
      "(1000, 20)\n",
      "[2022-08-02 13:58:56.296] layer = 0  | Val Acc = 11.100 % | Elapsed = 280.093 s\n",
      "[2022-08-02 13:58:56.307] Fitting cascade layer = 1 \n",
      "(1000, 20)\n",
      "[2022-08-02 14:02:41.028] layer = 1  | Val Acc = 9.200 % | Elapsed = 224.721 s\n",
      "[2022-08-02 14:02:41.028] Early stopping counter: 1 out of 2\n",
      "[2022-08-02 14:02:41.033] Fitting cascade layer = 2 \n",
      "(1000, 20)\n",
      "[2022-08-02 14:06:29.335] layer = 2  | Val Acc = 11.200 % | Elapsed = 228.302 s\n",
      "[2022-08-02 14:06:29.336] Reaching the maximum number of layers: 3\n",
      "[2022-08-02 14:06:29.339] Start to evalute the model:\n",
      "[2022-08-02 14:06:29.391] Evaluating cascade layer = 0 \n",
      "[2022-08-02 14:06:57.180] Evaluating cascade layer = 1 \n",
      "[2022-08-02 14:07:26.767] Evaluating cascade layer = 2 \n",
      "MNIST True 10 ['KF', 4, 0.2, 'gaussian', 'Pruned', 10, 0.1]\n",
      "[2022-08-02 14:07:57.200] Start to fit the model:\n",
      "[2022-08-02 14:07:57.200] Fitting cascade layer = 0 \n"
     ]
    },
    {
     "name": "stderr",
     "output_type": "stream",
     "text": [
      "/home/keen/.pyenv/versions/3.6.2/lib/python3.6/site-packages/sklearn/metrics/_classification.py:1248: UndefinedMetricWarning: Precision is ill-defined and being set to 0.0 in labels with no predicted samples. Use `zero_division` parameter to control this behavior.\n",
      "  _warn_prf(average, modifier, msg_start, len(result))\n"
     ]
    },
    {
     "name": "stdout",
     "output_type": "stream",
     "text": [
      "(1000, 20)\n",
      "[2022-08-02 14:10:57.845] layer = 0  | Val Acc = 10.400 % | Elapsed = 180.645 s\n",
      "[2022-08-02 14:10:57.847] Fitting cascade layer = 1 \n",
      "(1000, 20)\n",
      "[2022-08-02 14:14:05.149] layer = 1  | Val Acc = 10.300 % | Elapsed = 187.302 s\n",
      "[2022-08-02 14:14:05.149] Early stopping counter: 1 out of 2\n",
      "[2022-08-02 14:14:05.151] Fitting cascade layer = 2 \n",
      "(1000, 20)\n",
      "[2022-08-02 14:17:13.006] layer = 2  | Val Acc = 9.100 % | Elapsed = 187.855 s\n",
      "[2022-08-02 14:17:13.006] Early stopping counter: 2 out of 2\n",
      "[2022-08-02 14:17:13.006] Handling early stopping\n",
      "[2022-08-02 14:17:13.007] The optimal number of layers: 1\n",
      "[2022-08-02 14:17:13.009] Start to evalute the model:\n",
      "[2022-08-02 14:17:13.019] Evaluating cascade layer = 0 \n",
      "MNIST True 10 ['KF', 4, 0.2, 'gaussian', 'Not pruned']\n",
      "[2022-08-02 14:17:38.432] Start to fit the model:\n",
      "[2022-08-02 14:17:38.432] Fitting cascade layer = 0 \n"
     ]
    },
    {
     "name": "stderr",
     "output_type": "stream",
     "text": [
      "/home/keen/.pyenv/versions/3.6.2/lib/python3.6/site-packages/sklearn/metrics/_classification.py:1248: UndefinedMetricWarning: Precision is ill-defined and being set to 0.0 in labels with no predicted samples. Use `zero_division` parameter to control this behavior.\n",
      "  _warn_prf(average, modifier, msg_start, len(result))\n"
     ]
    },
    {
     "name": "stdout",
     "output_type": "stream",
     "text": [
      "(1000, 20)\n",
      "[2022-08-02 14:17:42.094] layer = 0  | Val Acc = 75.300 % | Elapsed = 3.662 s\n",
      "[2022-08-02 14:17:42.138] Fitting cascade layer = 1 \n",
      "(1000, 20)\n",
      "[2022-08-02 14:17:45.600] layer = 1  | Val Acc = 73.900 % | Elapsed = 3.462 s\n",
      "[2022-08-02 14:17:45.601] Early stopping counter: 1 out of 2\n",
      "[2022-08-02 14:17:45.650] Fitting cascade layer = 2 \n",
      "(1000, 20)\n",
      "[2022-08-02 14:17:49.193] layer = 2  | Val Acc = 70.400 % | Elapsed = 3.543 s\n",
      "[2022-08-02 14:17:49.193] Early stopping counter: 2 out of 2\n",
      "[2022-08-02 14:17:49.193] Handling early stopping\n",
      "[2022-08-02 14:17:49.195] The optimal number of layers: 1\n",
      "[2022-08-02 14:17:49.197] Start to evalute the model:\n",
      "[2022-08-02 14:17:49.212] Evaluating cascade layer = 0 \n",
      "MNIST False 10 ['RF', 4, 0.2]\n",
      "[2022-08-02 14:17:50.388] Start to fit the model:\n",
      "[2022-08-02 14:17:50.388] Fitting cascade layer = 0 \n",
      "(1000, 20)\n",
      "[2022-08-02 14:20:01.291] layer = 0  | Val Acc = 87.100 % | Elapsed = 130.903 s\n",
      "[2022-08-02 14:20:01.308] Fitting cascade layer = 1 \n",
      "(1000, 20)\n",
      "[2022-08-02 14:22:11.458] layer = 1  | Val Acc = 86.300 % | Elapsed = 130.149 s\n",
      "[2022-08-02 14:22:11.458] Early stopping counter: 1 out of 2\n",
      "[2022-08-02 14:22:11.470] Fitting cascade layer = 2 \n",
      "(1000, 20)\n",
      "[2022-08-02 14:24:23.384] layer = 2  | Val Acc = 86.000 % | Elapsed = 131.913 s\n",
      "[2022-08-02 14:24:23.384] Early stopping counter: 2 out of 2\n",
      "[2022-08-02 14:24:23.384] Handling early stopping\n",
      "[2022-08-02 14:24:23.387] The optimal number of layers: 1\n",
      "[2022-08-02 14:24:23.390] Start to evalute the model:\n",
      "[2022-08-02 14:24:23.401] Evaluating cascade layer = 0 \n",
      "MNIST False 10 ['KF', 4, 0.2, 'linear', 'Pruned', 10, 0.1]\n",
      "[2022-08-02 14:24:28.368] Start to fit the model:\n",
      "[2022-08-02 14:24:28.368] Fitting cascade layer = 0 \n",
      "(1000, 20)\n",
      "[2022-08-02 14:26:14.262] layer = 0  | Val Acc = 77.300 % | Elapsed = 105.894 s\n",
      "[2022-08-02 14:26:14.274] Fitting cascade layer = 1 \n",
      "(1000, 20)\n",
      "[2022-08-02 14:28:00.474] layer = 1  | Val Acc = 77.200 % | Elapsed = 106.200 s\n",
      "[2022-08-02 14:28:00.474] Early stopping counter: 1 out of 2\n",
      "[2022-08-02 14:28:00.486] Fitting cascade layer = 2 \n",
      "(1000, 20)\n",
      "[2022-08-02 14:29:46.623] layer = 2  | Val Acc = 77.700 % | Elapsed = 106.137 s\n",
      "[2022-08-02 14:29:46.623] Reaching the maximum number of layers: 3\n",
      "[2022-08-02 14:29:46.623] Start to evalute the model:\n",
      "[2022-08-02 14:29:46.633] Evaluating cascade layer = 0 \n",
      "[2022-08-02 14:29:49.474] Evaluating cascade layer = 1 \n",
      "[2022-08-02 14:29:52.329] Evaluating cascade layer = 2 \n",
      "MNIST False 10 ['KF', 4, 0.2, 'linear', 'Not pruned']\n",
      "[2022-08-02 14:29:55.231] Start to fit the model:\n",
      "[2022-08-02 14:29:55.231] Fitting cascade layer = 0 \n"
     ]
    },
    {
     "name": "stderr",
     "output_type": "stream",
     "text": [
      "/home/keen/.pyenv/versions/3.6.2/lib/python3.6/site-packages/sklearn/metrics/_classification.py:1248: UndefinedMetricWarning: Precision is ill-defined and being set to 0.0 in labels with no predicted samples. Use `zero_division` parameter to control this behavior.\n",
      "  _warn_prf(average, modifier, msg_start, len(result))\n"
     ]
    },
    {
     "name": "stdout",
     "output_type": "stream",
     "text": [
      "(1000, 20)\n",
      "[2022-08-02 14:33:36.609] layer = 0  | Val Acc = 11.200 % | Elapsed = 221.378 s\n",
      "[2022-08-02 14:33:36.615] Fitting cascade layer = 1 \n",
      "(1000, 20)\n",
      "[2022-08-02 14:37:30.234] layer = 1  | Val Acc = 10.900 % | Elapsed = 233.619 s\n",
      "[2022-08-02 14:37:30.234] Early stopping counter: 1 out of 2\n",
      "[2022-08-02 14:37:30.236] Fitting cascade layer = 2 \n",
      "(1000, 20)\n",
      "[2022-08-02 14:41:24.412] layer = 2  | Val Acc = 11.800 % | Elapsed = 234.176 s\n",
      "[2022-08-02 14:41:24.412] Reaching the maximum number of layers: 3\n",
      "[2022-08-02 14:41:24.413] Start to evalute the model:\n",
      "[2022-08-02 14:41:24.423] Evaluating cascade layer = 0 \n",
      "[2022-08-02 14:41:53.043] Evaluating cascade layer = 1 \n",
      "[2022-08-02 14:42:23.928] Evaluating cascade layer = 2 \n",
      "MNIST False 10 ['KF', 4, 0.2, 'gaussian', 'Pruned', 10, 0.1]\n",
      "[2022-08-02 14:42:54.667] Start to fit the model:\n",
      "[2022-08-02 14:42:54.667] Fitting cascade layer = 0 \n"
     ]
    },
    {
     "name": "stderr",
     "output_type": "stream",
     "text": [
      "/home/keen/.pyenv/versions/3.6.2/lib/python3.6/site-packages/sklearn/metrics/_classification.py:1248: UndefinedMetricWarning: Precision is ill-defined and being set to 0.0 in labels with no predicted samples. Use `zero_division` parameter to control this behavior.\n",
      "  _warn_prf(average, modifier, msg_start, len(result))\n"
     ]
    },
    {
     "name": "stdout",
     "output_type": "stream",
     "text": [
      "(1000, 20)\n",
      "[2022-08-02 14:45:54.613] layer = 0  | Val Acc = 12.400 % | Elapsed = 179.946 s\n",
      "[2022-08-02 14:45:54.615] Fitting cascade layer = 1 \n",
      "(1000, 20)\n",
      "[2022-08-02 14:49:02.490] layer = 1  | Val Acc = 10.100 % | Elapsed = 187.875 s\n",
      "[2022-08-02 14:49:02.490] Early stopping counter: 1 out of 2\n",
      "[2022-08-02 14:49:02.492] Fitting cascade layer = 2 \n",
      "(1000, 20)\n",
      "[2022-08-02 14:52:09.493] layer = 2  | Val Acc = 10.500 % | Elapsed = 187.002 s\n",
      "[2022-08-02 14:52:09.493] Early stopping counter: 2 out of 2\n",
      "[2022-08-02 14:52:09.493] Handling early stopping\n",
      "[2022-08-02 14:52:09.494] The optimal number of layers: 1\n",
      "[2022-08-02 14:52:09.496] Start to evalute the model:\n",
      "[2022-08-02 14:52:09.506] Evaluating cascade layer = 0 \n",
      "MNIST False 10 ['KF', 4, 0.2, 'gaussian', 'Not pruned']\n",
      "[2022-08-02 14:52:35.036] Start to fit the model:\n",
      "[2022-08-02 14:52:35.036] Fitting cascade layer = 0 \n"
     ]
    },
    {
     "name": "stderr",
     "output_type": "stream",
     "text": [
      "/home/keen/.pyenv/versions/3.6.2/lib/python3.6/site-packages/sklearn/metrics/_classification.py:1248: UndefinedMetricWarning: Precision is ill-defined and being set to 0.0 in labels with no predicted samples. Use `zero_division` parameter to control this behavior.\n",
      "  _warn_prf(average, modifier, msg_start, len(result))\n"
     ]
    },
    {
     "name": "stdout",
     "output_type": "stream",
     "text": [
      "(1000, 20)\n",
      "[2022-08-02 14:52:38.604] layer = 0  | Val Acc = 82.200 % | Elapsed = 3.568 s\n",
      "[2022-08-02 14:52:38.624] Fitting cascade layer = 1 \n",
      "(1000, 20)\n",
      "[2022-08-02 14:52:42.285] layer = 1  | Val Acc = 79.700 % | Elapsed = 3.661 s\n",
      "[2022-08-02 14:52:42.285] Early stopping counter: 1 out of 2\n",
      "[2022-08-02 14:52:42.326] Fitting cascade layer = 2 \n",
      "(1000, 20)\n",
      "[2022-08-02 14:52:45.948] layer = 2  | Val Acc = 79.100 % | Elapsed = 3.622 s\n",
      "[2022-08-02 14:52:45.948] Early stopping counter: 2 out of 2\n",
      "[2022-08-02 14:52:45.950] Handling early stopping\n",
      "[2022-08-02 14:52:45.952] The optimal number of layers: 1\n",
      "[2022-08-02 14:52:45.957] Start to evalute the model:\n",
      "[2022-08-02 14:52:45.992] Evaluating cascade layer = 0 \n",
      "USPS True 6 ['RF', 4, 0.2]\n",
      "[2022-08-02 14:52:47.191] Start to fit the model:\n",
      "[2022-08-02 14:52:47.191] Fitting cascade layer = 0 \n",
      "(1000, 20)\n",
      "[2022-08-02 14:54:06.052] layer = 0  | Val Acc = 92.200 % | Elapsed = 78.861 s\n",
      "[2022-08-02 14:54:06.063] Fitting cascade layer = 1 \n",
      "(1000, 20)\n",
      "[2022-08-02 14:55:27.877] layer = 1  | Val Acc = 92.500 % | Elapsed = 81.814 s\n",
      "[2022-08-02 14:55:27.889] Fitting cascade layer = 2 \n",
      "(1000, 20)\n",
      "[2022-08-02 14:56:49.375] layer = 2  | Val Acc = 91.800 % | Elapsed = 81.485 s\n",
      "[2022-08-02 14:56:49.375] Early stopping counter: 1 out of 2\n",
      "[2022-08-02 14:56:49.375] Reaching the maximum number of layers: 3\n",
      "[2022-08-02 14:56:49.375] Start to evalute the model:\n",
      "[2022-08-02 14:56:49.387] Evaluating cascade layer = 0 \n",
      "[2022-08-02 14:56:53.983] Evaluating cascade layer = 1 \n",
      "[2022-08-02 14:56:58.776] Evaluating cascade layer = 2 \n",
      "USPS True 6 ['KF', 4, 0.2, 'linear', 'Pruned', 10, 0.1]\n",
      "[2022-08-02 14:57:03.418] Start to fit the model:\n",
      "[2022-08-02 14:57:03.418] Fitting cascade layer = 0 \n",
      "(1000, 20)\n",
      "[2022-08-02 14:58:03.185] layer = 0  | Val Acc = 77.900 % | Elapsed = 59.767 s\n",
      "[2022-08-02 14:58:03.194] Fitting cascade layer = 1 \n",
      "(1000, 20)\n",
      "[2022-08-02 14:59:03.451] layer = 1  | Val Acc = 78.300 % | Elapsed = 60.257 s\n",
      "[2022-08-02 14:59:03.460] Fitting cascade layer = 2 \n",
      "(1000, 20)\n",
      "[2022-08-02 15:00:04.244] layer = 2  | Val Acc = 78.000 % | Elapsed = 60.784 s\n",
      "[2022-08-02 15:00:04.244] Early stopping counter: 1 out of 2\n",
      "[2022-08-02 15:00:04.244] Reaching the maximum number of layers: 3\n",
      "[2022-08-02 15:00:04.245] Start to evalute the model:\n",
      "[2022-08-02 15:00:04.255] Evaluating cascade layer = 0 \n",
      "[2022-08-02 15:00:07.035] Evaluating cascade layer = 1 \n",
      "[2022-08-02 15:00:09.812] Evaluating cascade layer = 2 \n",
      "USPS True 6 ['KF', 4, 0.2, 'linear', 'Not pruned']\n",
      "[2022-08-02 15:00:12.778] Start to fit the model:\n",
      "[2022-08-02 15:00:12.778] Fitting cascade layer = 0 \n"
     ]
    },
    {
     "name": "stderr",
     "output_type": "stream",
     "text": [
      "/home/keen/.pyenv/versions/3.6.2/lib/python3.6/site-packages/sklearn/metrics/_classification.py:1248: UndefinedMetricWarning: Precision is ill-defined and being set to 0.0 in labels with no predicted samples. Use `zero_division` parameter to control this behavior.\n",
      "  _warn_prf(average, modifier, msg_start, len(result))\n"
     ]
    },
    {
     "name": "stdout",
     "output_type": "stream",
     "text": [
      "(1000, 20)\n",
      "[2022-08-02 15:02:06.737] layer = 0  | Val Acc = 10.400 % | Elapsed = 113.958 s\n",
      "[2022-08-02 15:02:06.738] Fitting cascade layer = 1 \n",
      "(1000, 20)\n",
      "[2022-08-02 15:04:08.743] layer = 1  | Val Acc = 10.400 % | Elapsed = 122.005 s\n",
      "[2022-08-02 15:04:08.744] Early stopping counter: 1 out of 2\n",
      "[2022-08-02 15:04:08.746] Fitting cascade layer = 2 \n",
      "(1000, 20)\n",
      "[2022-08-02 15:06:09.025] layer = 2  | Val Acc = 11.600 % | Elapsed = 120.278 s\n",
      "[2022-08-02 15:06:09.025] Reaching the maximum number of layers: 3\n",
      "[2022-08-02 15:06:09.025] Start to evalute the model:\n",
      "[2022-08-02 15:06:09.036] Evaluating cascade layer = 0 \n",
      "[2022-08-02 15:06:22.179] Evaluating cascade layer = 1 \n",
      "[2022-08-02 15:06:36.786] Evaluating cascade layer = 2 \n",
      "USPS True 6 ['KF', 4, 0.2, 'gaussian', 'Pruned', 10, 0.1]\n",
      "[2022-08-02 15:06:51.575] Start to fit the model:\n",
      "[2022-08-02 15:06:51.575] Fitting cascade layer = 0 \n"
     ]
    },
    {
     "name": "stderr",
     "output_type": "stream",
     "text": [
      "/home/keen/.pyenv/versions/3.6.2/lib/python3.6/site-packages/sklearn/metrics/_classification.py:1248: UndefinedMetricWarning: Precision is ill-defined and being set to 0.0 in labels with no predicted samples. Use `zero_division` parameter to control this behavior.\n",
      "  _warn_prf(average, modifier, msg_start, len(result))\n"
     ]
    },
    {
     "name": "stdout",
     "output_type": "stream",
     "text": [
      "(1000, 20)\n",
      "[2022-08-02 15:08:15.345] layer = 0  | Val Acc = 11.500 % | Elapsed = 83.770 s\n",
      "[2022-08-02 15:08:15.347] Fitting cascade layer = 1 \n",
      "(1000, 20)\n",
      "[2022-08-02 15:09:46.125] layer = 1  | Val Acc = 11.300 % | Elapsed = 90.778 s\n",
      "[2022-08-02 15:09:46.125] Early stopping counter: 1 out of 2\n",
      "[2022-08-02 15:09:46.126] Fitting cascade layer = 2 \n",
      "(1000, 20)\n",
      "[2022-08-02 15:11:15.897] layer = 2  | Val Acc = 11.200 % | Elapsed = 89.770 s\n",
      "[2022-08-02 15:11:15.897] Early stopping counter: 2 out of 2\n",
      "[2022-08-02 15:11:15.897] Handling early stopping\n",
      "[2022-08-02 15:11:15.898] The optimal number of layers: 1\n",
      "[2022-08-02 15:11:15.899] Start to evalute the model:\n",
      "[2022-08-02 15:11:15.909] Evaluating cascade layer = 0 \n",
      "USPS True 6 ['KF', 4, 0.2, 'gaussian', 'Not pruned']\n",
      "[2022-08-02 15:11:26.882] Start to fit the model:\n",
      "[2022-08-02 15:11:26.883] Fitting cascade layer = 0 \n"
     ]
    },
    {
     "name": "stderr",
     "output_type": "stream",
     "text": [
      "/home/keen/.pyenv/versions/3.6.2/lib/python3.6/site-packages/sklearn/metrics/_classification.py:1248: UndefinedMetricWarning: Precision is ill-defined and being set to 0.0 in labels with no predicted samples. Use `zero_division` parameter to control this behavior.\n",
      "  _warn_prf(average, modifier, msg_start, len(result))\n"
     ]
    },
    {
     "name": "stdout",
     "output_type": "stream",
     "text": [
      "(1000, 20)\n",
      "[2022-08-02 15:11:30.701] layer = 0  | Val Acc = 80.400 % | Elapsed = 3.818 s\n",
      "[2022-08-02 15:11:30.741] Fitting cascade layer = 1 \n",
      "(1000, 20)\n",
      "[2022-08-02 15:11:34.259] layer = 1  | Val Acc = 79.600 % | Elapsed = 3.518 s\n",
      "[2022-08-02 15:11:34.259] Early stopping counter: 1 out of 2\n",
      "[2022-08-02 15:11:34.270] Fitting cascade layer = 2 \n",
      "(1000, 20)\n",
      "[2022-08-02 15:11:37.817] layer = 2  | Val Acc = 78.700 % | Elapsed = 3.547 s\n",
      "[2022-08-02 15:11:37.817] Early stopping counter: 2 out of 2\n",
      "[2022-08-02 15:11:37.817] Handling early stopping\n",
      "[2022-08-02 15:11:37.818] The optimal number of layers: 1\n",
      "[2022-08-02 15:11:37.820] Start to evalute the model:\n",
      "[2022-08-02 15:11:37.842] Evaluating cascade layer = 0 \n",
      "USPS False 6 ['RF', 4, 0.2]\n",
      "[2022-08-02 15:11:39.046] Start to fit the model:\n",
      "[2022-08-02 15:11:39.046] Fitting cascade layer = 0 \n",
      "(1000, 20)\n",
      "[2022-08-02 15:12:59.188] layer = 0  | Val Acc = 93.100 % | Elapsed = 80.142 s\n",
      "[2022-08-02 15:12:59.210] Fitting cascade layer = 1 \n",
      "(1000, 20)\n",
      "[2022-08-02 15:14:21.247] layer = 1  | Val Acc = 92.200 % | Elapsed = 82.036 s\n",
      "[2022-08-02 15:14:21.247] Early stopping counter: 1 out of 2\n",
      "[2022-08-02 15:14:21.260] Fitting cascade layer = 2 \n",
      "(1000, 20)\n",
      "[2022-08-02 15:15:43.693] layer = 2  | Val Acc = 92.500 % | Elapsed = 82.432 s\n",
      "[2022-08-02 15:15:43.693] Early stopping counter: 2 out of 2\n",
      "[2022-08-02 15:15:43.693] Handling early stopping\n",
      "[2022-08-02 15:15:43.695] The optimal number of layers: 1\n",
      "[2022-08-02 15:15:43.698] Start to evalute the model:\n",
      "[2022-08-02 15:15:43.712] Evaluating cascade layer = 0 \n",
      "USPS False 6 ['KF', 4, 0.2, 'linear', 'Pruned', 10, 0.1]\n",
      "[2022-08-02 15:15:48.652] Start to fit the model:\n",
      "[2022-08-02 15:15:48.652] Fitting cascade layer = 0 \n",
      "(1000, 20)\n",
      "[2022-08-02 15:16:47.322] layer = 0  | Val Acc = 79.300 % | Elapsed = 58.669 s\n",
      "[2022-08-02 15:16:47.331] Fitting cascade layer = 1 \n",
      "(1000, 20)\n",
      "[2022-08-02 15:17:46.365] layer = 1  | Val Acc = 77.400 % | Elapsed = 59.034 s\n",
      "[2022-08-02 15:17:46.365] Early stopping counter: 1 out of 2\n",
      "[2022-08-02 15:17:46.375] Fitting cascade layer = 2 \n",
      "(1000, 20)\n",
      "[2022-08-02 15:18:45.190] layer = 2  | Val Acc = 77.500 % | Elapsed = 58.815 s\n",
      "[2022-08-02 15:18:45.190] Early stopping counter: 2 out of 2\n",
      "[2022-08-02 15:18:45.190] Handling early stopping\n",
      "[2022-08-02 15:18:45.190] The optimal number of layers: 1\n",
      "[2022-08-02 15:18:45.192] Start to evalute the model:\n",
      "[2022-08-02 15:18:45.202] Evaluating cascade layer = 0 \n",
      "USPS False 6 ['KF', 4, 0.2, 'linear', 'Not pruned']\n",
      "[2022-08-02 15:18:48.059] Start to fit the model:\n",
      "[2022-08-02 15:18:48.059] Fitting cascade layer = 0 \n"
     ]
    },
    {
     "name": "stderr",
     "output_type": "stream",
     "text": [
      "/home/keen/.pyenv/versions/3.6.2/lib/python3.6/site-packages/sklearn/metrics/_classification.py:1248: UndefinedMetricWarning: Precision is ill-defined and being set to 0.0 in labels with no predicted samples. Use `zero_division` parameter to control this behavior.\n",
      "  _warn_prf(average, modifier, msg_start, len(result))\n"
     ]
    },
    {
     "name": "stdout",
     "output_type": "stream",
     "text": [
      "(1000, 20)\n",
      "[2022-08-02 15:20:38.678] layer = 0  | Val Acc = 10.400 % | Elapsed = 110.619 s\n",
      "[2022-08-02 15:20:38.680] Fitting cascade layer = 1 \n",
      "(1000, 20)\n",
      "[2022-08-02 15:22:36.452] layer = 1  | Val Acc = 10.000 % | Elapsed = 117.772 s\n",
      "[2022-08-02 15:22:36.452] Early stopping counter: 1 out of 2\n",
      "[2022-08-02 15:22:36.456] Fitting cascade layer = 2 \n",
      "(1000, 20)\n",
      "[2022-08-02 15:24:35.042] layer = 2  | Val Acc = 9.200 % | Elapsed = 118.586 s\n",
      "[2022-08-02 15:24:35.042] Early stopping counter: 2 out of 2\n",
      "[2022-08-02 15:24:35.043] Handling early stopping\n",
      "[2022-08-02 15:24:35.046] The optimal number of layers: 1\n",
      "[2022-08-02 15:24:35.051] Start to evalute the model:\n",
      "[2022-08-02 15:24:35.073] Evaluating cascade layer = 0 \n",
      "USPS False 6 ['KF', 4, 0.2, 'gaussian', 'Pruned', 10, 0.1]\n",
      "[2022-08-02 15:24:48.008] Start to fit the model:\n",
      "[2022-08-02 15:24:48.008] Fitting cascade layer = 0 \n"
     ]
    },
    {
     "name": "stderr",
     "output_type": "stream",
     "text": [
      "/home/keen/.pyenv/versions/3.6.2/lib/python3.6/site-packages/sklearn/metrics/_classification.py:1248: UndefinedMetricWarning: Precision is ill-defined and being set to 0.0 in labels with no predicted samples. Use `zero_division` parameter to control this behavior.\n",
      "  _warn_prf(average, modifier, msg_start, len(result))\n"
     ]
    },
    {
     "name": "stdout",
     "output_type": "stream",
     "text": [
      "(1000, 20)\n",
      "[2022-08-02 15:26:10.828] layer = 0  | Val Acc = 12.700 % | Elapsed = 82.820 s\n",
      "[2022-08-02 15:26:10.830] Fitting cascade layer = 1 \n",
      "(1000, 20)\n",
      "[2022-08-02 15:27:39.620] layer = 1  | Val Acc = 10.900 % | Elapsed = 88.790 s\n",
      "[2022-08-02 15:27:39.620] Early stopping counter: 1 out of 2\n",
      "[2022-08-02 15:27:39.621] Fitting cascade layer = 2 \n",
      "(1000, 20)\n",
      "[2022-08-02 15:29:08.115] layer = 2  | Val Acc = 9.300 % | Elapsed = 88.494 s\n",
      "[2022-08-02 15:29:08.115] Early stopping counter: 2 out of 2\n",
      "[2022-08-02 15:29:08.115] Handling early stopping\n",
      "[2022-08-02 15:29:08.116] The optimal number of layers: 1\n",
      "[2022-08-02 15:29:08.117] Start to evalute the model:\n",
      "[2022-08-02 15:29:08.128] Evaluating cascade layer = 0 \n",
      "USPS False 6 ['KF', 4, 0.2, 'gaussian', 'Not pruned']\n"
     ]
    },
    {
     "name": "stderr",
     "output_type": "stream",
     "text": [
      "/home/keen/.pyenv/versions/3.6.2/lib/python3.6/site-packages/sklearn/metrics/_classification.py:1248: UndefinedMetricWarning: Precision is ill-defined and being set to 0.0 in labels with no predicted samples. Use `zero_division` parameter to control this behavior.\n",
      "  _warn_prf(average, modifier, msg_start, len(result))\n"
     ]
    },
    {
     "name": "stdout",
     "output_type": "stream",
     "text": [
      "[2022-08-02 15:29:19.095] Start to fit the model:\n",
      "[2022-08-02 15:29:19.095] Fitting cascade layer = 0 \n",
      "(1000, 20)\n",
      "[2022-08-02 15:29:36.024] layer = 0  | Val Acc = 31.000 % | Elapsed = 16.928 s\n",
      "[2022-08-02 15:29:36.086] Fitting cascade layer = 1 \n",
      "(1000, 20)\n",
      "[2022-08-02 15:29:52.875] layer = 1  | Val Acc = 30.700 % | Elapsed = 16.789 s\n",
      "[2022-08-02 15:29:52.875] Early stopping counter: 1 out of 2\n",
      "[2022-08-02 15:29:52.889] Fitting cascade layer = 2 \n",
      "(1000, 20)\n",
      "[2022-08-02 15:30:09.728] layer = 2  | Val Acc = 31.100 % | Elapsed = 16.839 s\n",
      "[2022-08-02 15:30:09.729] Reaching the maximum number of layers: 3\n",
      "[2022-08-02 15:30:09.738] Start to evalute the model:\n",
      "[2022-08-02 15:30:09.917] Evaluating cascade layer = 0 \n",
      "[2022-08-02 15:30:11.983] Evaluating cascade layer = 1 \n",
      "[2022-08-02 15:30:13.957] Evaluating cascade layer = 2 \n",
      "CIFAR True 10 ['RF', 4, 0.2]\n",
      "[2022-08-02 15:30:15.875] Start to fit the model:\n",
      "[2022-08-02 15:30:15.875] Fitting cascade layer = 0 \n",
      "(1000, 20)\n",
      "[2022-08-02 15:36:48.541] layer = 0  | Val Acc = 31.300 % | Elapsed = 392.665 s\n",
      "[2022-08-02 15:36:48.559] Fitting cascade layer = 1 \n",
      "(1000, 20)\n",
      "[2022-08-02 15:43:21.429] layer = 1  | Val Acc = 31.700 % | Elapsed = 392.871 s\n",
      "[2022-08-02 15:43:21.443] Fitting cascade layer = 2 \n",
      "(1000, 20)\n",
      "[2022-08-02 15:49:55.594] layer = 2  | Val Acc = 33.000 % | Elapsed = 394.151 s\n",
      "[2022-08-02 15:49:55.594] Reaching the maximum number of layers: 3\n",
      "[2022-08-02 15:49:55.599] Start to evalute the model:\n",
      "[2022-08-02 15:49:55.778] Evaluating cascade layer = 0 \n",
      "[2022-08-02 15:50:08.534] Evaluating cascade layer = 1 \n",
      "[2022-08-02 15:50:21.082] Evaluating cascade layer = 2 \n",
      "CIFAR True 10 ['KF', 4, 0.2, 'linear', 'Pruned', 10, 0.1]\n",
      "[2022-08-02 15:50:34.485] Start to fit the model:\n",
      "[2022-08-02 15:50:34.485] Fitting cascade layer = 0 \n",
      "(1000, 20)\n",
      "[2022-08-02 15:56:44.923] layer = 0  | Val Acc = 28.700 % | Elapsed = 370.438 s\n",
      "[2022-08-02 15:56:44.935] Fitting cascade layer = 1 \n",
      "(1000, 20)\n",
      "[2022-08-02 16:02:53.329] layer = 1  | Val Acc = 30.300 % | Elapsed = 368.394 s\n",
      "[2022-08-02 16:02:53.341] Fitting cascade layer = 2 \n",
      "(1000, 20)\n",
      "[2022-08-02 16:08:59.385] layer = 2  | Val Acc = 29.100 % | Elapsed = 366.043 s\n",
      "[2022-08-02 16:08:59.385] Early stopping counter: 1 out of 2\n",
      "[2022-08-02 16:08:59.385] Reaching the maximum number of layers: 3\n",
      "[2022-08-02 16:08:59.388] Start to evalute the model:\n",
      "[2022-08-02 16:08:59.534] Evaluating cascade layer = 0 \n",
      "[2022-08-02 16:09:09.147] Evaluating cascade layer = 1 \n",
      "[2022-08-02 16:09:18.795] Evaluating cascade layer = 2 \n",
      "CIFAR True 10 ['KF', 4, 0.2, 'linear', 'Not pruned']\n"
     ]
    },
    {
     "name": "stderr",
     "output_type": "stream",
     "text": [
      "/home/keen/.pyenv/versions/3.6.2/lib/python3.6/site-packages/sklearn/metrics/_classification.py:1248: UndefinedMetricWarning: Precision is ill-defined and being set to 0.0 in labels with no predicted samples. Use `zero_division` parameter to control this behavior.\n",
      "  _warn_prf(average, modifier, msg_start, len(result))\n"
     ]
    },
    {
     "name": "stdout",
     "output_type": "stream",
     "text": [
      "[2022-08-02 16:09:28.716] Start to fit the model:\n",
      "[2022-08-02 16:09:28.716] Fitting cascade layer = 0 \n",
      "(1000, 20)\n",
      "[2022-08-02 16:21:28.469] layer = 0  | Val Acc = 9.500 % | Elapsed = 719.753 s\n",
      "[2022-08-02 16:21:28.496] Fitting cascade layer = 1 \n",
      "(1000, 20)\n",
      "[2022-08-02 16:33:39.562] layer = 1  | Val Acc = 10.100 % | Elapsed = 731.065 s\n",
      "[2022-08-02 16:33:39.613] Fitting cascade layer = 2 \n",
      "(1000, 20)\n",
      "[2022-08-02 16:46:08.011] layer = 2  | Val Acc = 9.100 % | Elapsed = 748.397 s\n",
      "[2022-08-02 16:46:08.011] Early stopping counter: 1 out of 2\n",
      "[2022-08-02 16:46:08.011] Reaching the maximum number of layers: 3\n",
      "[2022-08-02 16:46:08.014] Start to evalute the model:\n",
      "[2022-08-02 16:46:08.232] Evaluating cascade layer = 0 \n",
      "[2022-08-02 16:48:12.918] Evaluating cascade layer = 1 \n",
      "[2022-08-02 16:50:18.148] Evaluating cascade layer = 2 \n",
      "CIFAR True 10 ['KF', 4, 0.2, 'gaussian', 'Pruned', 10, 0.1]\n"
     ]
    },
    {
     "name": "stderr",
     "output_type": "stream",
     "text": [
      "/home/keen/.pyenv/versions/3.6.2/lib/python3.6/site-packages/sklearn/metrics/_classification.py:1248: UndefinedMetricWarning: Precision is ill-defined and being set to 0.0 in labels with no predicted samples. Use `zero_division` parameter to control this behavior.\n",
      "  _warn_prf(average, modifier, msg_start, len(result))\n"
     ]
    },
    {
     "name": "stdout",
     "output_type": "stream",
     "text": [
      "[2022-08-02 16:52:23.689] Start to fit the model:\n",
      "[2022-08-02 16:52:23.689] Fitting cascade layer = 0 \n",
      "(1000, 20)\n",
      "[2022-08-02 17:02:47.797] layer = 0  | Val Acc = 8.200 % | Elapsed = 624.064 s\n",
      "[2022-08-02 17:02:48.082] Fitting cascade layer = 1 \n",
      "(1000, 20)\n",
      "[2022-08-02 17:13:25.827] layer = 1  | Val Acc = 8.600 % | Elapsed = 637.745 s\n",
      "[2022-08-02 17:13:25.851] Fitting cascade layer = 2 \n",
      "(1000, 20)\n",
      "[2022-08-02 17:24:03.358] layer = 2  | Val Acc = 8.500 % | Elapsed = 637.507 s\n",
      "[2022-08-02 17:24:03.358] Early stopping counter: 1 out of 2\n",
      "[2022-08-02 17:24:03.358] Reaching the maximum number of layers: 3\n",
      "[2022-08-02 17:24:03.361] Start to evalute the model:\n",
      "[2022-08-02 17:24:03.507] Evaluating cascade layer = 0 \n",
      "[2022-08-02 17:26:05.527] Evaluating cascade layer = 1 \n",
      "[2022-08-02 17:28:08.581] Evaluating cascade layer = 2 \n",
      "CIFAR True 10 ['KF', 4, 0.2, 'gaussian', 'Not pruned']\n"
     ]
    },
    {
     "name": "stderr",
     "output_type": "stream",
     "text": [
      "/home/keen/.pyenv/versions/3.6.2/lib/python3.6/site-packages/sklearn/metrics/_classification.py:1248: UndefinedMetricWarning: Precision is ill-defined and being set to 0.0 in labels with no predicted samples. Use `zero_division` parameter to control this behavior.\n",
      "  _warn_prf(average, modifier, msg_start, len(result))\n"
     ]
    },
    {
     "name": "stdout",
     "output_type": "stream",
     "text": [
      "[2022-08-02 17:30:14.228] Start to fit the model:\n",
      "[2022-08-02 17:30:14.228] Fitting cascade layer = 0 \n",
      "(1000, 20)\n",
      "[2022-08-02 17:30:31.205] layer = 0  | Val Acc = 31.300 % | Elapsed = 16.976 s\n",
      "[2022-08-02 17:30:31.260] Fitting cascade layer = 1 \n",
      "(1000, 20)\n",
      "[2022-08-02 17:30:48.131] layer = 1  | Val Acc = 30.200 % | Elapsed = 16.871 s\n",
      "[2022-08-02 17:30:48.131] Early stopping counter: 1 out of 2\n",
      "[2022-08-02 17:30:48.196] Fitting cascade layer = 2 \n",
      "(1000, 20)\n",
      "[2022-08-02 17:31:05.085] layer = 2  | Val Acc = 32.100 % | Elapsed = 16.889 s\n",
      "[2022-08-02 17:31:05.085] Reaching the maximum number of layers: 3\n",
      "[2022-08-02 17:31:05.089] Start to evalute the model:\n",
      "[2022-08-02 17:31:05.237] Evaluating cascade layer = 0 \n",
      "[2022-08-02 17:31:06.871] Evaluating cascade layer = 1 \n",
      "[2022-08-02 17:31:08.505] Evaluating cascade layer = 2 \n",
      "CIFAR False 10 ['RF', 4, 0.2]\n",
      "[2022-08-02 17:31:10.034] Start to fit the model:\n",
      "[2022-08-02 17:31:10.034] Fitting cascade layer = 0 \n",
      "(1000, 20)\n",
      "[2022-08-02 17:38:05.774] layer = 0  | Val Acc = 30.800 % | Elapsed = 415.739 s\n",
      "[2022-08-02 17:38:05.789] Fitting cascade layer = 1 \n",
      "(1000, 20)\n",
      "[2022-08-02 17:44:57.135] layer = 1  | Val Acc = 31.100 % | Elapsed = 411.346 s\n",
      "[2022-08-02 17:44:57.154] Fitting cascade layer = 2 \n",
      "(1000, 20)\n",
      "[2022-08-02 17:51:49.806] layer = 2  | Val Acc = 33.400 % | Elapsed = 412.652 s\n",
      "[2022-08-02 17:51:49.806] Reaching the maximum number of layers: 3\n",
      "[2022-08-02 17:51:49.808] Start to evalute the model:\n",
      "[2022-08-02 17:51:49.957] Evaluating cascade layer = 0 \n",
      "[2022-08-02 17:52:11.066] Evaluating cascade layer = 1 \n",
      "[2022-08-02 17:52:32.212] Evaluating cascade layer = 2 \n",
      "CIFAR False 10 ['KF', 4, 0.2, 'linear', 'Pruned', 10, 0.1]\n",
      "[2022-08-02 17:52:53.777] Start to fit the model:\n",
      "[2022-08-02 17:52:53.777] Fitting cascade layer = 0 \n",
      "(1000, 20)\n",
      "[2022-08-02 17:58:59.072] layer = 0  | Val Acc = 30.000 % | Elapsed = 365.295 s\n",
      "[2022-08-02 17:58:59.086] Fitting cascade layer = 1 \n",
      "(1000, 20)\n",
      "[2022-08-02 18:05:06.965] layer = 1  | Val Acc = 30.000 % | Elapsed = 367.879 s\n",
      "[2022-08-02 18:05:06.965] Early stopping counter: 1 out of 2\n",
      "[2022-08-02 18:05:06.977] Fitting cascade layer = 2 \n",
      "(1000, 20)\n",
      "[2022-08-02 18:11:18.586] layer = 2  | Val Acc = 31.900 % | Elapsed = 371.609 s\n",
      "[2022-08-02 18:11:18.586] Reaching the maximum number of layers: 3\n",
      "[2022-08-02 18:11:18.589] Start to evalute the model:\n",
      "[2022-08-02 18:11:18.735] Evaluating cascade layer = 0 \n",
      "[2022-08-02 18:11:28.488] Evaluating cascade layer = 1 \n",
      "[2022-08-02 18:11:38.281] Evaluating cascade layer = 2 \n",
      "CIFAR False 10 ['KF', 4, 0.2, 'linear', 'Not pruned']\n"
     ]
    },
    {
     "name": "stderr",
     "output_type": "stream",
     "text": [
      "/home/keen/.pyenv/versions/3.6.2/lib/python3.6/site-packages/sklearn/metrics/_classification.py:1248: UndefinedMetricWarning: Precision is ill-defined and being set to 0.0 in labels with no predicted samples. Use `zero_division` parameter to control this behavior.\n",
      "  _warn_prf(average, modifier, msg_start, len(result))\n"
     ]
    },
    {
     "name": "stdout",
     "output_type": "stream",
     "text": [
      "[2022-08-02 18:11:48.413] Start to fit the model:\n",
      "[2022-08-02 18:11:48.413] Fitting cascade layer = 0 \n",
      "(1000, 20)\n",
      "[2022-08-02 18:25:55.650] layer = 0  | Val Acc = 9.700 % | Elapsed = 847.238 s\n",
      "[2022-08-02 18:25:55.656] Fitting cascade layer = 1 \n",
      "(1000, 20)\n",
      "[2022-08-02 18:46:14.951] layer = 1  | Val Acc = 11.300 % | Elapsed = 1219.294 s\n",
      "[2022-08-02 18:46:14.956] Fitting cascade layer = 2 \n",
      "(1000, 20)\n",
      "[2022-08-02 19:04:32.721] layer = 2  | Val Acc = 9.800 % | Elapsed = 1097.765 s\n",
      "[2022-08-02 19:04:32.721] Early stopping counter: 1 out of 2\n",
      "[2022-08-02 19:04:32.722] Reaching the maximum number of layers: 3\n",
      "[2022-08-02 19:04:32.731] Start to evalute the model:\n",
      "[2022-08-02 19:04:32.987] Evaluating cascade layer = 0 \n",
      "[2022-08-02 19:06:40.213] Evaluating cascade layer = 1 \n",
      "[2022-08-02 19:09:00.006] Evaluating cascade layer = 2 \n",
      "CIFAR False 10 ['KF', 4, 0.2, 'gaussian', 'Pruned', 10, 0.1]\n"
     ]
    },
    {
     "name": "stderr",
     "output_type": "stream",
     "text": [
      "/home/keen/.pyenv/versions/3.6.2/lib/python3.6/site-packages/sklearn/metrics/_classification.py:1248: UndefinedMetricWarning: Precision is ill-defined and being set to 0.0 in labels with no predicted samples. Use `zero_division` parameter to control this behavior.\n",
      "  _warn_prf(average, modifier, msg_start, len(result))\n"
     ]
    },
    {
     "name": "stdout",
     "output_type": "stream",
     "text": [
      "[2022-08-02 19:11:51.948] Start to fit the model:\n",
      "[2022-08-02 19:11:51.948] Fitting cascade layer = 0 \n",
      "(1000, 20)\n",
      "[2022-08-02 19:28:43.026] layer = 0  | Val Acc = 9.300 % | Elapsed = 1011.078 s\n",
      "[2022-08-02 19:28:43.052] Fitting cascade layer = 1 \n",
      "(1000, 20)\n",
      "[2022-08-02 19:39:17.199] layer = 1  | Val Acc = 8.300 % | Elapsed = 634.146 s\n",
      "[2022-08-02 19:39:17.199] Early stopping counter: 1 out of 2\n",
      "[2022-08-02 19:39:17.204] Fitting cascade layer = 2 \n",
      "(1000, 20)\n",
      "[2022-08-02 19:49:59.434] layer = 2  | Val Acc = 11.100 % | Elapsed = 642.230 s\n",
      "[2022-08-02 19:49:59.435] Reaching the maximum number of layers: 3\n",
      "[2022-08-02 19:49:59.476] Start to evalute the model:\n",
      "[2022-08-02 19:49:59.653] Evaluating cascade layer = 0 \n",
      "[2022-08-02 19:52:01.583] Evaluating cascade layer = 1 \n",
      "[2022-08-02 19:54:05.254] Evaluating cascade layer = 2 \n",
      "CIFAR False 10 ['KF', 4, 0.2, 'gaussian', 'Not pruned']\n"
     ]
    },
    {
     "name": "stderr",
     "output_type": "stream",
     "text": [
      "/home/keen/.pyenv/versions/3.6.2/lib/python3.6/site-packages/sklearn/metrics/_classification.py:1248: UndefinedMetricWarning: Precision is ill-defined and being set to 0.0 in labels with no predicted samples. Use `zero_division` parameter to control this behavior.\n",
      "  _warn_prf(average, modifier, msg_start, len(result))\n"
     ]
    },
    {
     "ename": "KeyError",
     "evalue": "'letter'",
     "output_type": "error",
     "traceback": [
      "\u001b[0;31m---------------------------------------------------------------------------\u001b[0m",
      "\u001b[0;31mKeyError\u001b[0m                                  Traceback (most recent call last)",
      "\u001b[0;32m<ipython-input-10-d19f3b90f6c5>\u001b[0m in \u001b[0;36m<module>\u001b[0;34m\u001b[0m\n\u001b[1;32m     31\u001b[0m \u001b[0;34m\u001b[0m\u001b[0m\n\u001b[1;32m     32\u001b[0m     \u001b[0;32mfor\u001b[0m \u001b[0mw\u001b[0m \u001b[0;32min\u001b[0m \u001b[0mWIN\u001b[0m\u001b[0;34m:\u001b[0m\u001b[0;34m\u001b[0m\u001b[0m\n\u001b[0;32m---> 33\u001b[0;31m         \u001b[0;32mfor\u001b[0m \u001b[0mwss\u001b[0m \u001b[0;32min\u001b[0m \u001b[0mDS_WIN_SZ\u001b[0m\u001b[0;34m[\u001b[0m\u001b[0md\u001b[0m\u001b[0;34m]\u001b[0m\u001b[0;34m:\u001b[0m\u001b[0;34m\u001b[0m\u001b[0m\n\u001b[0m\u001b[1;32m     34\u001b[0m             \u001b[0;32mfor\u001b[0m \u001b[0me_idx\u001b[0m\u001b[0;34m,\u001b[0m\u001b[0me\u001b[0m \u001b[0;32min\u001b[0m \u001b[0menumerate\u001b[0m\u001b[0;34m(\u001b[0m\u001b[0mestimators\u001b[0m\u001b[0;34m)\u001b[0m\u001b[0;34m:\u001b[0m\u001b[0;34m\u001b[0m\u001b[0m\n\u001b[1;32m     35\u001b[0m                 \u001b[0mest\u001b[0m \u001b[0;34m=\u001b[0m \u001b[0me\u001b[0m\u001b[0;34m[\u001b[0m\u001b[0mlen\u001b[0m\u001b[0;34m(\u001b[0m\u001b[0me\u001b[0m\u001b[0;34m)\u001b[0m \u001b[0;34m-\u001b[0m \u001b[0;36m1\u001b[0m\u001b[0;34m]\u001b[0m\u001b[0;34m\u001b[0m\u001b[0m\n",
      "\u001b[0;31mKeyError\u001b[0m: 'letter'"
     ]
    }
   ],
   "source": [
    "from sklearn.metrics import precision_score\n",
    "from sklearn.metrics import recall_score\n",
    "from sklearn.metrics import accuracy_score\n",
    "\n",
    "def LOG(str_):\n",
    "    with open(\"log.txt\", \"a\") as f:\n",
    "        if str_ != '\\n':\n",
    "            f.write(str(str_) + \";\")\n",
    "        else:    \n",
    "            f.write(str_)\n",
    "            \n",
    "for d in data:\n",
    "    x_train = data[d][0][0]\n",
    "    Y_train = data[d][0][1]\n",
    "    x_validate = data[d][1][0]\n",
    "    Y_validate = data[d][1][1]\n",
    "    if SHAKE:\n",
    "        tr_idxs = numpy.random.permutation(x_train.shape[0])[:TRAIN_SIZE]         \n",
    "        tst_idxs = numpy.random.permutation(x_validate.shape[0])[:TEST_SIZE]         \n",
    "        x_train = x_train[tr_idxs]\n",
    "        Y_train = Y_train[tr_idxs]\n",
    "        x_validate = x_validate[tst_idxs]\n",
    "        Y_validate = Y_validate[tst_idxs]\n",
    "        \n",
    "    if data[d][2][2] > 1:\n",
    "        x_train = x_train.reshape((data[d][2][2],-1,data[d][2][0],data[d][2][1]))\n",
    "        x_validate = x_validate.reshape((data[d][2][2],-1,data[d][2][0],data[d][2][1]))\n",
    "    else:\n",
    "        x_train = x_train.reshape((-1,data[d][2][0],data[d][2][1]))\n",
    "        x_validate = x_validate.reshape((-1,data[d][2][0],data[d][2][1]))\n",
    "        \n",
    "    for w in WIN:\n",
    "        for wss in DS_WIN_SZ[d]:\n",
    "            for e_idx,e in enumerate(estimators):\n",
    "                est = e[len(e) - 1]    \n",
    "                model = CascadeForestClassifier(max_layers=3)\n",
    "                model.set_estimator(est)                    \n",
    "                if w and data[d][2][0] < wss:\n",
    "                    model.set_win([wss,-1,-1],[2,1,1],[data[d][2][0],1,1],[data[d][2][1],1,1],[0,0,0],[2,0,0],[False,True,True])\n",
    "                    model.fit(x_train, Y_train)#\n",
    "                    pred = model.predict(x_validate)\n",
    "                else: \n",
    "                    model.fit(x_train.reshape(-1,data[d][2][0]*data[d][2][1]*data[d][2][2]), Y_train)#\n",
    "                    pred = model.predict(x_validate.reshape(-1,data[d][2][0]*data[d][2][1]*data[d][2][2]))\n",
    "\n",
    "                for i in range(len(e) - 1):\n",
    "                    LOG(e[i])                    \n",
    "                print (d,w,wss,e[:len(e)-1])\n",
    "\n",
    "\n",
    "                LOG(precision_score(Y_validate, pred,average='macro'))\n",
    "                LOG(recall_score(Y_validate, pred,average='macro'))                        \n",
    "                LOG(accuracy_score(Y_validate, pred))     \n",
    "\n",
    "                LOG('\\n')\n"
   ]
  },
  {
   "cell_type": "code",
   "execution_count": null,
   "id": "93cf194f",
   "metadata": {},
   "outputs": [],
   "source": []
  }
 ],
 "metadata": {
  "kernelspec": {
   "display_name": "Python 3",
   "language": "python",
   "name": "python3"
  },
  "language_info": {
   "codemirror_mode": {
    "name": "ipython",
    "version": 3
   },
   "file_extension": ".py",
   "mimetype": "text/x-python",
   "name": "python",
   "nbconvert_exporter": "python",
   "pygments_lexer": "ipython3",
   "version": "3.6.2"
  }
 },
 "nbformat": 4,
 "nbformat_minor": 5
}
